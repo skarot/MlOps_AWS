{
  "nbformat": 4,
  "nbformat_minor": 0,
  "metadata": {
    "colab": {
      "name": "Untitled32.ipynb",
      "provenance": [],
      "collapsed_sections": [
        "DIvcx7nhJZkK",
        "GBhJVLaeJ8ca",
        "iQ-hwNhiKVEK"
      ]
    },
    "kernelspec": {
      "name": "python3",
      "display_name": "Python 3"
    },
    "language_info": {
      "name": "python"
    }
  },
  "cells": [
    {
      "cell_type": "markdown",
      "source": [
        "# Detect data bias with Amazon SageMaker Clarify"
      ],
      "metadata": {
        "id": "jgpQI6mHJOMi"
      }
    },
    {
      "cell_type": "markdown",
      "source": [
        "## Import libraries"
      ],
      "metadata": {
        "id": "DIvcx7nhJZkK"
      }
    },
    {
      "cell_type": "code",
      "execution_count": null,
      "metadata": {
        "id": "pggct5Iz_8to"
      },
      "outputs": [],
      "source": [
        "!pip install --disable-pip-version-check -q sagemaker==2.35.0\n",
        "import matplotlib.pyplot as plt\n",
        "%matplotlib inline\n",
        "%config InlineBackend.figure_format='retina'"
      ]
    },
    {
      "cell_type": "markdown",
      "source": [
        "Create the boto3 client sdk that will be passed to sagemaker session as sagemaker client."
      ],
      "metadata": {
        "id": "RUVQZ1udJcjD"
      }
    },
    {
      "cell_type": "code",
      "source": [
        "import boto3\n",
        "import sagemaker\n",
        "import pandas as pd\n",
        "import numpy as np\n",
        "import botocore\n",
        "\n",
        "config = botocore.config.Config(user_agent_extra='dlai-pds/c1/w2')\n",
        "\n",
        "# low-level service client of the boto3 session\n",
        "sm = boto3.client(service_name='sagemaker', \n",
        "                  config=config)\n",
        "\n",
        "sess = sagemaker.Session(sagemaker_client=sm)\n",
        "\n",
        "bucket = sess.default_bucket()\n",
        "role = sagemaker.get_execution_role()\n",
        "region = sess.boto_region_name"
      ],
      "metadata": {
        "id": "r45kisYfJgf4"
      },
      "execution_count": null,
      "outputs": []
    },
    {
      "cell_type": "code",
      "source": [
        "sess, bucket, role, region"
      ],
      "metadata": {
        "id": "6kCoOPmfJg6g"
      },
      "execution_count": null,
      "outputs": []
    },
    {
      "cell_type": "markdown",
      "source": [
        "## Analyze the dataset"
      ],
      "metadata": {
        "id": "GBhJVLaeJ8ca"
      }
    },
    {
      "cell_type": "markdown",
      "source": [
        "Create a pandas data frame from the transformed/preprocessed CSV file."
      ],
      "metadata": {
        "id": "jDNxwHFHKDEv"
      }
    },
    {
      "cell_type": "code",
      "source": [
        "!aws s3 cp 's3://dlai-practical-data-science/data/transformed/womens_clothing_ecommerce_reviews_transformed.csv' ./"
      ],
      "metadata": {
        "id": "_hNrOs9YJ8_N"
      },
      "execution_count": null,
      "outputs": []
    },
    {
      "cell_type": "code",
      "source": [
        "path = './womens_clothing_ecommerce_reviews_transformed.csv'\n",
        "\n",
        "df = pd.read_csv(path)\n",
        "df.head()"
      ],
      "metadata": {
        "id": "COKGbQLMKMsW"
      },
      "execution_count": null,
      "outputs": []
    },
    {
      "cell_type": "code",
      "source": [
        "import seaborn as sns\n",
        "\n",
        "sns.countplot(data=df, x='sentiment', hue='product_category')\n",
        "\n",
        "plt.legend(loc='upper right',bbox_to_anchor=(1.3, 1.1))"
      ],
      "metadata": {
        "id": "K0BO5t09KSaf"
      },
      "execution_count": null,
      "outputs": []
    },
    {
      "cell_type": "markdown",
      "source": [
        "## Upload the dataset to S3 bucket"
      ],
      "metadata": {
        "id": "iQ-hwNhiKVEK"
      }
    },
    {
      "cell_type": "code",
      "source": [
        "data_s3_uri_unbalanced = sess.upload_data(bucket=bucket, \n",
        "                               key_prefix='bias/unbalanced', \n",
        "                               path='./womens_clothing_ecommerce_reviews_transformed.csv')\n",
        "data_s3_uri_unbalanced"
      ],
      "metadata": {
        "id": "nNA8tDd4KVwS"
      },
      "execution_count": null,
      "outputs": []
    },
    {
      "cell_type": "markdown",
      "source": [
        "## Analyze class imbalance on the dataset with Amazon SageMaker Clarify"
      ],
      "metadata": {
        "id": "dKuHPhqYKcIF"
      }
    },
    {
      "cell_type": "markdown",
      "source": [
        "Let's analyze bias in sentiment with respect to the product_category facet on the dataset."
      ],
      "metadata": {
        "id": "H0faMo98KjYk"
      }
    },
    {
      "cell_type": "markdown",
      "source": [
        "### Configure a DataConfig"
      ],
      "metadata": {
        "id": "06xn8On0KlkM"
      }
    },
    {
      "cell_type": "markdown",
      "source": [
        "Information about the input data needs to be provided to the processor. This can be done with the DataConfig of the Clarify container. It stores information about the dataset to be analyzed, for example the dataset file, its format, headers and labels."
      ],
      "metadata": {
        "id": "NlGa4M6iLlzh"
      }
    },
    {
      "cell_type": "code",
      "source": [
        "from sagemaker import clarify\n",
        "\n",
        "bias_report_unbalanced_output_path = 's3://{}/bias/generated_bias_report/unbalanced'.format(bucket)\n",
        "\n",
        "data_config_unbalanced = clarify.DataConfig(\n",
        "    s3_data_input_path=data_s3_uri_unbalanced, # Replace None\n",
        "    s3_output_path=bias_report_unbalanced_output_path, # Replace None\n",
        "    label='sentiment', # Replace None\n",
        "    headers=df.columns.to_list(),\n",
        "    dataset_type='text/csv'\n",
        ")"
      ],
      "metadata": {
        "id": "vrlZWGMUKcsX"
      },
      "execution_count": null,
      "outputs": []
    },
    {
      "cell_type": "markdown",
      "source": [
        "### Configure BiasConfig"
      ],
      "metadata": {
        "id": "6et9su7kLb9j"
      }
    },
    {
      "cell_type": "code",
      "source": [
        "bias_config_unbalanced = clarify.BiasConfig(\n",
        "    label_values_or_threshold=[1], # desired sentiment\n",
        "    facet_name='product_category' # sensitive column (facet)\n",
        ")"
      ],
      "metadata": {
        "id": "RbWv_JuELclq"
      },
      "execution_count": null,
      "outputs": []
    },
    {
      "cell_type": "markdown",
      "source": [
        "Bias is measured by calculating a metric and comparing it across groups. To compute it, you will specify the required information in the BiasConfig API. SageMaker Clarify needs the sensitive columns (facet_name) and the desirable outcomes (label_values_or_threshold). Here product_category is the sensitive facet and the desired outcome is with the sentiment==1.\n",
        "\n",
        "SageMaker Clarify can handle both categorical and continuous data for label_values_or_threshold. In this case you are using categorical data"
      ],
      "metadata": {
        "id": "PEKNVFhJL8Pt"
      }
    },
    {
      "cell_type": "markdown",
      "source": [
        "## Configure Amazon SageMaker Clarify as a processing job"
      ],
      "metadata": {
        "id": "RG_rsySWLx_q"
      }
    },
    {
      "cell_type": "markdown",
      "source": [
        "Now you need to construct an object called SageMakerClarifyProcessor. This allows you to scale the process of data bias detection using two parameters, instance_count and instance_type. Instance_count represents how many nodes you want in the distributor cluster during the data detection. Instance_type specifies the processing capability (compute capacity, memory capacity) available for each one of those nodes. "
      ],
      "metadata": {
        "id": "ugJWWPPQMDqq"
      }
    },
    {
      "cell_type": "code",
      "source": [
        "clarify_processor_unbalanced = clarify.SageMakerClarifyProcessor(role=role,\n",
        "                                                      instance_count=1,\n",
        "                                                      instance_type='ml.m5.large',\n",
        "                                                      sagemaker_session=sess)"
      ],
      "metadata": {
        "id": "dAf7ltMKLytA"
      },
      "execution_count": null,
      "outputs": []
    },
    {
      "cell_type": "markdown",
      "source": [
        "## Run the Amazon SageMaker Clarify processing job"
      ],
      "metadata": {
        "id": "bxAXW9NVMI__"
      }
    },
    {
      "cell_type": "markdown",
      "source": [
        "Run the configured processing job to compute the requested bias methods of the input data"
      ],
      "metadata": {
        "id": "zwC-QPraMPxn"
      }
    },
    {
      "cell_type": "code",
      "source": [
        "clarify_processor_unbalanced.run_pre_training_bias(\n",
        "    data_config=data_config_unbalanced, # Replace None\n",
        "    data_bias_config=bias_config_unbalanced, # Replace None\n",
        "    methods=[\"CI\", \"DPL\", \"KL\", \"JS\", \"LP\", \"TVD\", \"KS\"],\n",
        "    wait=False,\n",
        "    logs=False\n",
        ")"
      ],
      "metadata": {
        "id": "Fkw_Rt-6MJg_"
      },
      "execution_count": null,
      "outputs": []
    },
    {
      "cell_type": "markdown",
      "source": [
        "View the job run"
      ],
      "metadata": {
        "id": "ntLZktqRNJkK"
      }
    },
    {
      "cell_type": "code",
      "source": [
        "run_unbalanced_bias_processing_job_name = clarify_processor_unbalanced.latest_job.job_name\n",
        "print(run_unbalanced_bias_processing_job_name)"
      ],
      "metadata": {
        "id": "EzzLDorqM6Wq"
      },
      "execution_count": null,
      "outputs": []
    },
    {
      "cell_type": "markdown",
      "source": [
        "## Run and review the Amazon SageMaker Clarify processing job on the unbalanced dataset"
      ],
      "metadata": {
        "id": "DhRKVmV0NTGJ"
      }
    },
    {
      "cell_type": "code",
      "source": [
        "running_processor = sagemaker.processing.ProcessingJob.from_processing_name(processing_job_name=run_unbalanced_bias_processing_job_name,\n",
        "                                                                            sagemaker_session=sess)"
      ],
      "metadata": {
        "id": "g_kM13ekNUHy"
      },
      "execution_count": null,
      "outputs": []
    },
    {
      "cell_type": "markdown",
      "source": [
        "## Analyze balanced bias report"
      ],
      "metadata": {
        "id": "Gm5MyXeePF1o"
      }
    },
    {
      "cell_type": "code",
      "source": [
        "!aws s3 ls $bias_report_balanced_output_path/"
      ],
      "metadata": {
        "id": "rZvQapb0PGYj"
      },
      "execution_count": null,
      "outputs": []
    },
    {
      "cell_type": "markdown",
      "source": [
        "### Download generated bias report from S3 bucket:"
      ],
      "metadata": {
        "id": "aziKO2pVPLJt"
      }
    },
    {
      "cell_type": "code",
      "source": [
        "!aws s3 cp --recursive $bias_report_balanced_output_path ./generated_bias_report/balanced/"
      ],
      "metadata": {
        "id": "uyv_34UPPL2u"
      },
      "execution_count": null,
      "outputs": []
    }
  ]
}